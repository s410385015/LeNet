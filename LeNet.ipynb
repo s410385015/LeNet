{
 "cells": [
  {
   "cell_type": "code",
   "execution_count": 1,
   "metadata": {
    "collapsed": true
   },
   "outputs": [],
   "source": [
    "import torch\n",
    "import torch.nn as nn\n",
    "import torch.nn.functional as F\n",
    "import torch.optim as optim\n",
    "from torchvision import datasets, transforms\n",
    "from torch.utils.data import DataLoader\n",
    "from torch.autograd import Variable\n",
    "import matplotlib.pyplot as plt\n",
    "import numpy as np"
   ]
  },
  {
   "cell_type": "code",
   "execution_count": 2,
   "metadata": {
    "collapsed": true
   },
   "outputs": [],
   "source": [
    "class LeNet(nn.Module):\n",
    "    def __init__(self):\n",
    "        super(LeNet, self).__init__()\n",
    "        self.ConvNet=nn.Sequential(\n",
    "            nn.Conv2d(1,6,5,padding=2),\n",
    "            nn.ReLU(),\n",
    "            nn.MaxPool2d(2,2),\n",
    "            nn.Conv2d(6, 16, 5),\n",
    "            nn.ReLU(),\n",
    "            nn.MaxPool2d(2,2),\n",
    "        )\n",
    "        self.Fc=nn.Sequential(\n",
    "            nn.Linear(16*5*5, 120),\n",
    "            nn.ReLU(),\n",
    "            nn.Linear(120, 84),\n",
    "            nn.ReLU(),\n",
    "            nn.Linear(84, 10)\n",
    "        )\n",
    "    def forward(self,x):\n",
    "        x=self.ConvNet(x)\n",
    "        x=x.view(-1,16*5*5)\n",
    "        x=self.Fc(x)\n",
    "        \n",
    "        return x\n"
   ]
  },
  {
   "cell_type": "code",
   "execution_count": 8,
   "metadata": {
    "collapsed": true
   },
   "outputs": [],
   "source": [
    "BATCH_SIZE=64\n",
    "LR=0.001\n",
    "EPOCHS=50"
   ]
  },
  {
   "cell_type": "code",
   "execution_count": 11,
   "metadata": {
    "collapsed": true
   },
   "outputs": [],
   "source": [
    "transform=transforms.Compose([transforms.ToTensor(), transforms.Normalize((0.1307,), (0.3081,))])\n",
    "trainSet = datasets.MNIST(root='MNIST', download=True, train=True, transform=transform)\n",
    "testSet = datasets.MNIST(root='MNIST', download=True, train=False, transform=transform)"
   ]
  },
  {
   "cell_type": "code",
   "execution_count": 12,
   "metadata": {
    "collapsed": true,
    "scrolled": true
   },
   "outputs": [],
   "source": [
    "train_loader=DataLoader(trainSet,batch_size=BATCH_SIZE,shuffle=True,num_workers=10)\n",
    "test_loader =DataLoader(testSet, batch_size=BATCH_SIZE, shuffle=False, num_workers=10)"
   ]
  },
  {
   "cell_type": "code",
   "execution_count": 15,
   "metadata": {},
   "outputs": [
    {
     "name": "stdout",
     "output_type": "stream",
     "text": [
      "43.355\n",
      "Epoch: [  1], Loss: 0.02846\n",
      "84.52\n",
      "88.49833333333333\n",
      "Epoch: [  2], Loss: 0.00585\n",
      "92.25\n",
      "93.05333333333333\n",
      "Epoch: [  3], Loss: 0.00357\n",
      "95.08\n",
      "94.98\n",
      "Epoch: [  4], Loss: 0.00256\n",
      "95.73\n",
      "95.97166666666666\n",
      "Epoch: [  5], Loss: 0.00204\n",
      "96.72\n",
      "96.61\n",
      "Epoch: [  6], Loss: 0.00170\n",
      "96.91\n",
      "97.08166666666666\n",
      "Epoch: [  7], Loss: 0.00148\n",
      "97.53\n",
      "97.34666666666666\n",
      "Epoch: [  8], Loss: 0.00133\n",
      "97.38\n",
      "97.64833333333334\n",
      "Epoch: [  9], Loss: 0.00121\n",
      "97.82\n",
      "97.81333333333333\n",
      "Epoch: [ 10], Loss: 0.00110\n",
      "97.82\n",
      "97.97833333333334\n",
      "Epoch: [ 11], Loss: 0.00104\n",
      "97.86\n",
      "98.10333333333332\n",
      "Epoch: [ 12], Loss: 0.00095\n",
      "98.17\n",
      "98.23166666666665\n",
      "Epoch: [ 13], Loss: 0.00089\n",
      "98.27\n",
      "98.31\n",
      "Epoch: [ 14], Loss: 0.00085\n",
      "98.50999999999999\n",
      "98.4\n",
      "Epoch: [ 15], Loss: 0.00080\n",
      "98.24000000000001\n",
      "98.51166666666667\n",
      "Epoch: [ 16], Loss: 0.00074\n",
      "98.4\n",
      "98.57333333333334\n",
      "Epoch: [ 17], Loss: 0.00071\n",
      "98.64\n",
      "98.655\n",
      "Epoch: [ 18], Loss: 0.00067\n",
      "98.22\n",
      "98.715\n",
      "Epoch: [ 19], Loss: 0.00065\n",
      "98.18\n",
      "98.81166666666667\n",
      "Epoch: [ 20], Loss: 0.00060\n",
      "98.64\n",
      "98.80666666666667\n",
      "Epoch: [ 21], Loss: 0.00059\n",
      "98.48\n",
      "98.83999999999999\n",
      "Epoch: [ 22], Loss: 0.00057\n",
      "98.72999999999999\n",
      "98.89333333333333\n",
      "Epoch: [ 23], Loss: 0.00054\n",
      "98.75\n",
      "98.955\n",
      "Epoch: [ 24], Loss: 0.00052\n",
      "98.65\n",
      "99.00666666666666\n",
      "Epoch: [ 25], Loss: 0.00049\n",
      "98.86\n",
      "99.06\n",
      "Epoch: [ 26], Loss: 0.00047\n",
      "98.61\n",
      "99.03166666666667\n",
      "Epoch: [ 27], Loss: 0.00046\n",
      "98.92999999999999\n",
      "99.125\n",
      "Epoch: [ 28], Loss: 0.00043\n",
      "98.77\n",
      "99.125\n",
      "Epoch: [ 29], Loss: 0.00042\n",
      "98.83999999999999\n",
      "99.22166666666666\n",
      "Epoch: [ 30], Loss: 0.00040\n",
      "98.81\n",
      "99.2\n",
      "Epoch: [ 31], Loss: 0.00039\n",
      "98.88\n",
      "99.245\n",
      "Epoch: [ 32], Loss: 0.00037\n",
      "98.91\n",
      "99.245\n",
      "Epoch: [ 33], Loss: 0.00035\n",
      "98.82\n",
      "99.27333333333334\n",
      "Epoch: [ 34], Loss: 0.00034\n",
      "98.9\n",
      "99.3\n",
      "Epoch: [ 35], Loss: 0.00033\n",
      "98.83\n",
      "99.35833333333333\n",
      "Epoch: [ 36], Loss: 0.00031\n",
      "98.95\n",
      "99.395\n",
      "Epoch: [ 37], Loss: 0.00031\n",
      "98.74000000000001\n",
      "99.375\n",
      "Epoch: [ 38], Loss: 0.00030\n",
      "98.88\n",
      "99.42666666666666\n",
      "Epoch: [ 39], Loss: 0.00028\n",
      "98.74000000000001\n",
      "99.46333333333334\n",
      "Epoch: [ 40], Loss: 0.00027\n",
      "98.88\n",
      "99.48333333333333\n",
      "Epoch: [ 41], Loss: 0.00026\n",
      "98.83999999999999\n",
      "99.47833333333334\n",
      "Epoch: [ 42], Loss: 0.00025\n",
      "98.58\n",
      "99.505\n",
      "Epoch: [ 43], Loss: 0.00024\n",
      "98.83999999999999\n",
      "99.54333333333332\n",
      "Epoch: [ 44], Loss: 0.00023\n",
      "98.86\n",
      "99.55666666666667\n",
      "Epoch: [ 45], Loss: 0.00022\n",
      "98.86\n",
      "99.55333333333334\n",
      "Epoch: [ 46], Loss: 0.00022\n",
      "98.77\n",
      "99.555\n",
      "Epoch: [ 47], Loss: 0.00022\n",
      "98.98\n",
      "99.58833333333334\n",
      "Epoch: [ 48], Loss: 0.00020\n",
      "99.00999999999999\n",
      "99.64\n",
      "Epoch: [ 49], Loss: 0.00019\n",
      "98.92999999999999\n",
      "99.62666666666667\n",
      "Epoch: [ 50], Loss: 0.00019\n",
      "98.96000000000001\n"
     ]
    }
   ],
   "source": [
    "model=LeNet().cuda()\n",
    "\n",
    "optimizer=optim.SGD(model.parameters(), lr=LR,momentum=0.9)\n",
    "loss_func=nn.CrossEntropyLoss()\n",
    "\n",
    "\n",
    "loss_value=[]\n",
    "loss_in_firstEpoch=[]\n",
    "acc_train=[]\n",
    "acc_test=[]\n",
    "\n",
    "for epoch in range(EPOCHS):\n",
    "    \n",
    "    model.train()\n",
    "    correct_train=0\n",
    "    l=0\n",
    "    for index,(x,y) in enumerate(train_loader):\n",
    "        x,y=x.cuda(),y.cuda()\n",
    "        x,y=Variable(x),Variable(y)\n",
    "        output=model(x)\n",
    "        loss=loss_func(output,y)\n",
    "        l+=loss.data\n",
    "        optimizer.zero_grad()\n",
    "        loss.backward()\n",
    "        optimizer.step()\n",
    "        if epoch == 0:\n",
    "            loss_in_firstEpoch.append(loss.data)\n",
    "        \n",
    "        pred = output.argmax(dim=1, keepdim=True) \n",
    "        correct_train += pred.eq(y.view_as(pred)).sum().item()\n",
    "    \n",
    "    \n",
    "    l/=len(train_loader.dataset)\n",
    "    correct_train=100. * (correct_train / len(train_loader.dataset))\n",
    "    print(correct_train)\n",
    "    acc_train.append(correct_train)\n",
    "    \n",
    "    print(\"Epoch: [%3d], Loss: %.5f\" %(epoch + 1,l ))\n",
    "    loss_value.append(l)\n",
    "    \n",
    "    model.eval()\n",
    "    correct_test=0\n",
    "    with torch.no_grad():\n",
    "        for index,(x,y) in enumerate(test_loader):\n",
    "            x,y=x.cuda(),y.cuda()\n",
    "            x,y=Variable(x),Variable(y)\n",
    "            output=model(x)\n",
    "            pred = output.argmax(dim=1, keepdim=True) \n",
    "            correct_test += pred.eq(y.view_as(pred)).sum().item()\n",
    "    correct_test=100. * (correct_test / len(test_loader.dataset))\n",
    "    print(correct_test)\n",
    "    acc_test.append(correct_test)"
   ]
  },
  {
   "cell_type": "code",
   "execution_count": 17,
   "metadata": {},
   "outputs": [],
   "source": [
    "folder='./LeNet/'"
   ]
  },
  {
   "cell_type": "code",
   "execution_count": 21,
   "metadata": {},
   "outputs": [
    {
     "data": {
      "image/png": "[encoded data removed]",
      "text/plain": [
       "<Figure size 432x288 with 1 Axes>"
      ]
     },
     "metadata": {},
     "output_type": "display_data"
    }
   ],
   "source": [
    "plt.plot(np.arange(len(loss_in_firstEpoch)),loss_in_firstEpoch)\n",
    "plt.title('epoch(0/50)')\n",
    "plt.ylabel('loss')\n",
    "plt.xlabel('iterations')\n",
    "plt.savefig(folder+'5_3.png')\n",
    "plt.show()"
   ]
  },
  {
   "cell_type": "code",
   "execution_count": 26,
   "metadata": {},
   "outputs": [
    {
     "data": {
      "image/png": "[encoded data removed]",
      "text/plain": [
       "<Figure size 432x288 with 2 Axes>"
      ]
     },
     "metadata": {},
     "output_type": "display_data"
    }
   ],
   "source": [
    "plt.subplot(2,1,1)\n",
    "plt.plot(np.arange(len(acc_train)),acc_train,label='Training')\n",
    "plt.plot(np.arange(len(acc_test)),acc_test,label='Testing')\n",
    "plt.title('Accuracy')\n",
    "plt.legend(loc='lower right')\n",
    "plt.ylabel('%')\n",
    "plt.subplot(2,1,2)\n",
    "plt.plot(np.arange(len(loss_value)),loss_value)\n",
    "plt.xlabel('epoch')\n",
    "plt.ylabel('loss')\n",
    "plt.savefig(folder+'5_4.png')\n",
    "plt.show()"
   ]
  },
  {
   "cell_type": "code",
   "execution_count": 28,
   "metadata": {},
   "outputs": [
    {
     "name": "stderr",
     "output_type": "stream",
     "text": [
      "C:\\Users\\ec131b\\Anaconda3\\lib\\site-packages\\torch\\serialization.py:256: UserWarning: Couldn't retrieve source code for container of type LeNet. It won't be checked for correctness upon loading.\n",
      "  \"type \" + obj.__name__ + \". It won't be checked \"\n"
     ]
    }
   ],
   "source": [
    "torch.save(model,folder+'LeNet.pkl')"
   ]
  },
  {
   "cell_type": "code",
   "execution_count": 30,
   "metadata": {},
   "outputs": [
    {
     "name": "stdout",
     "output_type": "stream",
     "text": [
      "LeNet(\n",
      "  (ConvNet): Sequential(\n",
      "    (0): Conv2d(1, 6, kernel_size=(5, 5), stride=(1, 1), padding=(2, 2))\n",
      "    (1): ReLU()\n",
      "    (2): MaxPool2d(kernel_size=2, stride=2, padding=0, dilation=1, ceil_mode=False)\n",
      "    (3): Conv2d(6, 16, kernel_size=(5, 5), stride=(1, 1))\n",
      "    (4): ReLU()\n",
      "    (5): MaxPool2d(kernel_size=2, stride=2, padding=0, dilation=1, ceil_mode=False)\n",
      "  )\n",
      "  (Fc): Sequential(\n",
      "    (0): Linear(in_features=400, out_features=120, bias=True)\n",
      "    (1): ReLU()\n",
      "    (2): Linear(in_features=120, out_features=84, bias=True)\n",
      "    (3): ReLU()\n",
      "    (4): Linear(in_features=84, out_features=10, bias=True)\n",
      "  )\n",
      ")\n"
     ]
    }
   ],
   "source": [
    "model=torch.load(folder+'LeNet.pkl')\n",
    "print(model)"
   ]
  },
  {
   "cell_type": "code",
   "execution_count": 36,
   "metadata": {},
   "outputs": [
    {
     "name": "stdout",
     "output_type": "stream",
     "text": [
      "<class 'torch.Tensor'>\n"
     ]
    }
   ],
   "source": [
    "print(type(trainSet[0][0]))"
   ]
  },
  {
   "cell_type": "code",
   "execution_count": 39,
   "metadata": {},
   "outputs": [
    {
     "data": {
      "text/plain": [
       "2"
      ]
     },
     "execution_count": 39,
     "metadata": {},
     "output_type": "execute_result"
    }
   ],
   "source": [
    "len(testSet[0])"
   ]
  },
  {
   "cell_type": "code",
   "execution_count": null,
   "metadata": {
    "collapsed": true
   },
   "outputs": [],
   "source": []
  }
 ],
 "metadata": {
  "kernelspec": {
   "display_name": "Python 3",
   "language": "python",
   "name": "python3"
  },
  "language_info": {
   "codemirror_mode": {
    "name": "ipython",
    "version": 3
   },
   "file_extension": ".py",
   "mimetype": "text/x-python",
   "name": "python",
   "nbconvert_exporter": "python",
   "pygments_lexer": "ipython3",
   "version": "3.6.3"
  }
 },
 "nbformat": 4,
 "nbformat_minor": 2
}
